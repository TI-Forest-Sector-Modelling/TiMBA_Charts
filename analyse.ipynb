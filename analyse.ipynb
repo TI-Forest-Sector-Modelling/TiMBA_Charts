{
 "cells": [
  {
   "cell_type": "markdown",
   "metadata": {},
   "source": [
    "### Import neccassary packages"
   ]
  },
  {
   "cell_type": "code",
   "execution_count": null,
   "metadata": {},
   "outputs": [],
   "source": [
    "import pandas as pd\n",
    "import numpy as np\n",
    "from classes.import_data import package_directory, parameters\n",
    "from classes.import_data import import_pkl_data\n",
    "from classes.scenario_plots import sc_plot, PlotDropDown, HeatmapDropDown, InteractivePrice, interactiveModelComparison\n",
    "from classes.model_analysis import validation\n",
    "import warnings\n",
    "warnings.simplefilter(action='ignore', category=FutureWarning)"
   ]
  },
  {
   "cell_type": "markdown",
   "metadata": {},
   "source": [
    "### Identify the actual path of this jupyter file"
   ]
  },
  {
   "cell_type": "code",
   "execution_count": null,
   "metadata": {},
   "outputs": [],
   "source": [
    "PACKAGEDIR = package_directory()\n",
    "print(PACKAGEDIR)"
   ]
  },
  {
   "cell_type": "markdown",
   "metadata": {},
   "source": [
    "### Import data"
   ]
  },
  {
   "cell_type": "code",
   "execution_count": null,
   "metadata": {},
   "outputs": [],
   "source": [
    "import_pkl = import_pkl_data()\n",
    "data = import_pkl.combined_data()\n",
    "data_model_intercomparison = {}\n",
    "data_model_intercomparison['Carbon'] = data['Carbon']\n",
    "data_model_intercomparison['WorldPrices'] = data['WorldPrices']\n",
    "data_model_intercomparison['Forest'] = data['Forest']\n",
    "data_model_intercomparison['Data'] = data['data_periods']"
   ]
  },
  {
   "cell_type": "markdown",
   "metadata": {},
   "source": [
    "### Plot predefined scenario results "
   ]
  },
  {
   "cell_type": "code",
   "execution_count": null,
   "metadata": {},
   "outputs": [],
   "source": [
    "sc_plot = sc_plot()\n",
    "sc_plot.predefined_plot(data[\"data_periods\"])"
   ]
  },
  {
   "cell_type": "markdown",
   "metadata": {},
   "source": [
    "### Interactive scenario results (quantities)"
   ]
  },
  {
   "cell_type": "code",
   "execution_count": null,
   "metadata": {},
   "outputs": [],
   "source": [
    "data_periods = data[\"data_periods\"]\n",
    "plot_dropdown_instance = PlotDropDown(data=data_periods,\n",
    "                                      unique_color=True, \n",
    "                                      color='darkblue',\n",
    "                                      legend=False,\n",
    "                                      start=1990,\n",
    "                                      end=2020,\n",
    "                                      scenario_range=True)"
   ]
  },
  {
   "cell_type": "markdown",
   "metadata": {},
   "source": [
    "### Validation tables"
   ]
  },
  {
   "cell_type": "code",
   "execution_count": null,
   "metadata": {},
   "outputs": [],
   "source": [
    "validation = validation()\n",
    "data_vali = validation.model_difference(data=data[\"data_periods\"])\n",
    "data_quantities = validation.model_corrcoef(data[\"data_periods\"])"
   ]
  },
  {
   "cell_type": "markdown",
   "metadata": {},
   "source": [
    "### Interactive scenario results (prices)"
   ]
  },
  {
   "cell_type": "code",
   "execution_count": null,
   "metadata": {},
   "outputs": [],
   "source": [
    "#price_interactive = InteractivePrice(data[\"data_periods\"])"
   ]
  },
  {
   "cell_type": "markdown",
   "metadata": {},
   "source": [
    "### Forest Plots"
   ]
  },
  {
   "cell_type": "code",
   "execution_count": null,
   "metadata": {},
   "outputs": [],
   "source": [
    "# import pandas as pd #shift to sc plot\n",
    "# import matplotlib.pyplot as plt\n",
    "# import numpy as np\n",
    "\n",
    "# class ForestData:\n",
    "#     def __init__(self, data):\n",
    "#         self.data = data['Forest']\n",
    "\n",
    "#     def print_forest(self):\n",
    "#         print(self.data)\n",
    "    \n",
    "#     def drop_duplicates(self):\n",
    "#         self.data = self.data.drop_duplicates().reset_index(drop=True)\n",
    "\n",
    "#     def plot_stock_area_diagrams(self):\n",
    "#         unique_scenarios = self.data['Scenario'].unique()\n",
    "#         all_periods = self.data['Period']\n",
    "\n",
    "#         plt.figure(figsize=(12, 6))\n",
    "#         bar_width = 0.15\n",
    "#         bar_gap = 0.3\n",
    "#         for i, period in enumerate(all_periods):\n",
    "#             for j, scenario in enumerate(unique_scenarios):\n",
    "#                 scenario_data = self.data[(self.data['Scenario'] == scenario) & (self.data['Period'] == period)]\n",
    "#                 total_stock = scenario_data['ForStock']\n",
    "\n",
    "#                 # Berücksichtigen Sie nur die vorhandenen Perioden\n",
    "#                 plt.bar(i * len(unique_scenarios) + j * (bar_width + bar_gap), total_stock.iloc[0], label=f'{scenario} (Period {period})', width=bar_width)\n",
    "\n",
    "#         plt.xlabel('Scenarios')\n",
    "#         plt.ylabel('ForStock')\n",
    "#         plt.xticks(np.arange(len(all_periods) * len(unique_scenarios)) * (bar_width + bar_gap) + bar_width/2, [f'Period {p}' for p in all_periods])\n",
    "#         plt.legend()\n",
    "#         plt.title('ForStock for Each Scenario in All Periods')\n",
    "#         plt.show()\n",
    "\n",
    "#         plt.figure(figsize=(10, 6))\n",
    "#         for i, scenario in enumerate(unique_scenarios):\n",
    "#             scenario_data = self.data[self.data['Scenario'] == scenario]\n",
    "#             total_area = scenario_data.groupby('Period')['ForArea'].sum()\n",
    "\n",
    "#             # Berücksichtigen Sie nur die vorhandenen Perioden\n",
    "#             existing_periods = total_area.index.intersection(all_periods)\n",
    "#             plt.bar(existing_periods + i * (bar_width + bar_gap), total_area[existing_periods], label=scenario, width=bar_width)\n",
    "\n",
    "\n",
    "#         plt.xlabel('Period')\n",
    "#         plt.ylabel('Sum of ForArea')\n",
    "#         plt.legend()\n",
    "#         plt.title('ForArea')\n",
    "#         plt.show()\n",
    "\n",
    "# if __name__ == \"__main__\": #shift to sc plot\n",
    "#     data_container = data\n",
    "#     forest_instance = ForestData(data_container)\n",
    "#     forest_instance.print_forest()\n",
    "#     forest_instance.plot_stock_area_diagrams()"
   ]
  },
  {
   "cell_type": "markdown",
   "metadata": {},
   "source": [
    "### Worldmap"
   ]
  },
  {
   "cell_type": "code",
   "execution_count": null,
   "metadata": {},
   "outputs": [],
   "source": []
  },
  {
   "cell_type": "markdown",
   "metadata": {},
   "source": [
    "### Heatmap"
   ]
  },
  {
   "cell_type": "code",
   "execution_count": null,
   "metadata": {},
   "outputs": [],
   "source": [
    "#data_selection = data['data_periods']\n",
    "#heatmap_dropdown_instance = HeatmapDropDown(data=data_selection)"
   ]
  },
  {
   "cell_type": "markdown",
   "metadata": {},
   "source": [
    "### Validation Model intercomparison"
   ]
  },
  {
   "cell_type": "code",
   "execution_count": null,
   "metadata": {},
   "outputs": [],
   "source": [
    "country_data = validation.readin_country_data()\n",
    "external_model_data = validation.readin_external_data()\n",
    "data_filtered = validation.filter_data(data=data_model_intercomparison, country_data=country_data)\n",
    "\n",
    "# reformate external_model_data\n",
    "external_model_data = validation.reformate_external_data(data=external_model_data)\n",
    "\n",
    "# align periods of gfpmpt data\n",
    "period_data = validation.period_structure(data=data_model_intercomparison['Data'])\n",
    "data_aligned = validation.align_period_data(data=data_filtered, period_data=period_data)\n",
    "\n",
    "# convert units of gfpmpt \n",
    "data_aligned = validation.convert_unit(data=data_aligned)\n",
    "data_aligned = validation.rename_parameter(data=data_aligned)\n",
    "\n",
    "# merge data gfpmpt and external model data\n",
    "data_fin = validation.merge_data(data=data_aligned, external_data=external_model_data)\n"
   ]
  },
  {
   "cell_type": "code",
   "execution_count": null,
   "metadata": {},
   "outputs": [],
   "source": [
    "# plot interactive model intercomparison\n",
    "interactiveModelComparison(data=data_fin, plot_option='ssp_fsm_range')\n",
    "# available plot options:\n",
    "# 'min_max': min and max value over all forest sector models are selected and ploted with GFPM data\n",
    "# 'ssp_fsm_range': For each forest sector model the range over all ssp\n",
    "# 'ssp_fsm_all': For each forest sector model and each ssp "
   ]
  }
 ],
 "metadata": {
  "kernelspec": {
   "display_name": "Python 3",
   "language": "python",
   "name": "python3"
  },
  "language_info": {
   "codemirror_mode": {
    "name": "ipython",
    "version": 3
   },
   "file_extension": ".py",
   "mimetype": "text/x-python",
   "name": "python",
   "nbconvert_exporter": "python",
   "pygments_lexer": "ipython3",
   "version": "3.8.9"
  }
 },
 "nbformat": 4,
 "nbformat_minor": 2
}
