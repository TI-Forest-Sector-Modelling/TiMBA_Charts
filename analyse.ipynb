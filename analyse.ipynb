{
 "cells": [
  {
   "cell_type": "markdown",
   "metadata": {},
   "source": [
    "### Import neccassary packages"
   ]
  },
  {
   "cell_type": "code",
   "execution_count": 38,
   "metadata": {},
   "outputs": [
    {
     "ename": "ImportError",
     "evalue": "cannot import name 'InteractivePrice' from 'classes.scenario_plots' (c:\\Users\\tandetzki\\Pythonskripte\\analyses_toolbox_gfpmpt_3\\analyses_toolbox_gfpmpt\\classes\\scenario_plots.py)",
     "output_type": "error",
     "traceback": [
      "\u001b[1;31m---------------------------------------------------------------------------\u001b[0m",
      "\u001b[1;31mImportError\u001b[0m                               Traceback (most recent call last)",
      "\u001b[1;32m~\\AppData\\Local\\Temp\\ipykernel_24924\\778125348.py\u001b[0m in \u001b[0;36m<module>\u001b[1;34m\u001b[0m\n\u001b[0;32m      5\u001b[0m \u001b[1;32mfrom\u001b[0m \u001b[0mclasses\u001b[0m\u001b[1;33m.\u001b[0m\u001b[0mimport_data\u001b[0m \u001b[1;32mimport\u001b[0m \u001b[0mpackage_directory\u001b[0m\u001b[1;33m,\u001b[0m \u001b[0mparameters\u001b[0m\u001b[1;33m\u001b[0m\u001b[1;33m\u001b[0m\u001b[0m\n\u001b[0;32m      6\u001b[0m \u001b[1;32mfrom\u001b[0m \u001b[0mclasses\u001b[0m\u001b[1;33m.\u001b[0m\u001b[0mimport_data\u001b[0m \u001b[1;32mimport\u001b[0m \u001b[0mimport_pkl_data\u001b[0m\u001b[1;33m\u001b[0m\u001b[1;33m\u001b[0m\u001b[0m\n\u001b[1;32m----> 7\u001b[1;33m \u001b[1;32mfrom\u001b[0m \u001b[0mclasses\u001b[0m\u001b[1;33m.\u001b[0m\u001b[0mscenario_plots\u001b[0m \u001b[1;32mimport\u001b[0m \u001b[0msc_plot\u001b[0m\u001b[1;33m,\u001b[0m \u001b[0mPlotDropDown\u001b[0m\u001b[1;33m,\u001b[0m \u001b[0mHeatmapDropDown\u001b[0m\u001b[1;33m,\u001b[0m \u001b[0mInteractivePrice\u001b[0m\u001b[1;33m\u001b[0m\u001b[1;33m\u001b[0m\u001b[0m\n\u001b[0m\u001b[0;32m      8\u001b[0m \u001b[1;32mimport\u001b[0m \u001b[0mwarnings\u001b[0m\u001b[1;33m\u001b[0m\u001b[1;33m\u001b[0m\u001b[0m\n\u001b[0;32m      9\u001b[0m \u001b[0mwarnings\u001b[0m\u001b[1;33m.\u001b[0m\u001b[0msimplefilter\u001b[0m\u001b[1;33m(\u001b[0m\u001b[0maction\u001b[0m\u001b[1;33m=\u001b[0m\u001b[1;34m'ignore'\u001b[0m\u001b[1;33m,\u001b[0m \u001b[0mcategory\u001b[0m\u001b[1;33m=\u001b[0m\u001b[0mFutureWarning\u001b[0m\u001b[1;33m)\u001b[0m\u001b[1;33m\u001b[0m\u001b[1;33m\u001b[0m\u001b[0m\n",
      "\u001b[1;31mImportError\u001b[0m: cannot import name 'InteractivePrice' from 'classes.scenario_plots' (c:\\Users\\tandetzki\\Pythonskripte\\analyses_toolbox_gfpmpt_3\\analyses_toolbox_gfpmpt\\classes\\scenario_plots.py)"
     ]
    }
   ],
   "source": [
    "import pandas as pd\n",
    "import numpy as np\n",
    "import matplotlib.pyplot as plt\n",
    "import seaborn as sns\n",
    "from classes.import_data import package_directory, parameters\n",
    "from classes.import_data import import_pkl_data\n",
    "from classes.scenario_plots import sc_plot, PlotDropDown, HeatmapDropDown, InteractivePrice\n",
    "import warnings\n",
    "warnings.simplefilter(action='ignore', category=FutureWarning)"
   ]
  },
  {
   "cell_type": "markdown",
   "metadata": {},
   "source": [
    "### Identify the actual path of this jupyter file"
   ]
  },
  {
   "cell_type": "code",
   "execution_count": 2,
   "metadata": {},
   "outputs": [
    {
     "name": "stdout",
     "output_type": "stream",
     "text": [
      "c:\\Users\\tandetzki\\Pythonskripte\\analyses_toolbox_gfpmpt_3\\analyses_toolbox_gfpmpt\n",
      "1.5.3\n",
      "c:\\Python397\\lib\\site-packages\\pandas\\__init__.py\n",
      "1.20.3\n",
      "c:\\Python397\\lib\\site-packages\\numpy\\__init__.py\n"
     ]
    }
   ],
   "source": [
    "PACKAGEDIR = package_directory()\n",
    "print(PACKAGEDIR)\n",
    "print(pd.__version__)\n",
    "print(pd.__file__)\n",
    "print(np.__version__)\n",
    "print(np.__file__)"
   ]
  },
  {
   "cell_type": "markdown",
   "metadata": {},
   "source": [
    "### Import data"
   ]
  },
  {
   "cell_type": "code",
   "execution_count": 3,
   "metadata": {},
   "outputs": [
    {
     "name": "stdout",
     "output_type": "stream",
     "text": [
      "{'Forest':       RegionCode  Period   ForStock     ForArea      FGDPCap     alpha  \\\n",
      "0             a0       0         46        1940     4027.502 -0.002767   \n",
      "1             a0       0         46        1940     4027.502 -0.002767   \n",
      "2             a0       0         46        1940     4027.502 -0.002767   \n",
      "3             a0       0         46        1940     4027.502 -0.002767   \n",
      "4             a0       0         46        1940     4027.502 -0.002767   \n",
      "...          ...     ...        ...         ...          ...       ...   \n",
      "10075         r9       3  370.14074  4091.58507  7837.043544  0.009176   \n",
      "10076         r9       3  370.14074  4091.58507  7837.043544  0.009176   \n",
      "10077         r9       3  370.14074  4091.58507  7837.043544  0.009176   \n",
      "10078         r9       3  370.14074  4091.58507  7837.043544  0.009176   \n",
      "10079         r9       3  370.14074  4091.58507  7837.043544  0.009176   \n",
      "\n",
      "          gamma        ga       gu  supply_from_forest CO2Price  \n",
      "0      0.011213       NaN      NaN                 NaN        0  \n",
      "1      0.011213       NaN      NaN                 NaN        0  \n",
      "2      0.011213       NaN      NaN                 NaN        0  \n",
      "3      0.011213       NaN      NaN                 NaN        0  \n",
      "4      0.011213       NaN      NaN                 NaN        0  \n",
      "...         ...       ...      ...                 ...      ...  \n",
      "10075  0.007381  0.050841  0.10716            0.052285        0  \n",
      "10076  0.007381  0.050841  0.10716            0.052285        0  \n",
      "10077  0.007381  0.050841  0.10716            0.052285        0  \n",
      "10078  0.007381  0.050841  0.10716            0.052285        0  \n",
      "10079  0.007381  0.050841  0.10716            0.052285        0  \n",
      "\n",
      "[10080 rows x 11 columns], 'ManufactureCost':       RegionCode  CommodityCode  Period  ManuCost  raw_material_costs  \\\n",
      "0             a0           80.0       0    0.0000            0.000000   \n",
      "1             a0           81.0       0    0.0000            0.000000   \n",
      "2             a0           82.0       0    0.0000            0.000000   \n",
      "3             a0           83.0       0   77.1190          248.388537   \n",
      "4             a0           84.0       0  391.4715          248.388525   \n",
      "...          ...            ...     ...       ...                 ...   \n",
      "10131         zy           89.0       3    0.0000            0.000000   \n",
      "10132         zy           90.0       3    0.0000            0.000000   \n",
      "10133         zy           91.0       3    0.0000            0.000000   \n",
      "10134         zy           92.0       3    0.0000            0.000000   \n",
      "10135         zy           93.0       3    0.0000            0.000000   \n",
      "\n",
      "       total_production_costs  \n",
      "0                    0.000000  \n",
      "1                    0.000000  \n",
      "2                    0.000000  \n",
      "3                  325.507537  \n",
      "4                  639.860025  \n",
      "...                       ...  \n",
      "10131                0.000000  \n",
      "10132                0.000000  \n",
      "10133                0.000000  \n",
      "10134                0.000000  \n",
      "10135                0.000000  \n",
      "\n",
      "[10136 rows x 6 columns], 'data_aggregated':      ContinentNew  CommodityCode                domain  Period  year  \\\n",
      "0          Africa           80.0                Demand       0  2017   \n",
      "1          Africa           80.0                Demand       1  2020   \n",
      "2          Africa           80.0                Demand       2  2025   \n",
      "3          Africa           80.0                Demand       3  2030   \n",
      "4          Africa           80.0       ManufactureCost       0  2017   \n",
      "...           ...            ...                   ...     ...   ...   \n",
      "2235       Global           93.0  TransportationExport       3  2030   \n",
      "2236       Global           93.0  TransportationImport       0  2017   \n",
      "2237       Global           93.0  TransportationImport       1  2020   \n",
      "2238       Global           93.0  TransportationImport       2  2025   \n",
      "2239       Global           93.0  TransportationImport       3  2030   \n",
      "\n",
      "          quantity  weighted_price  \n",
      "0     6.827340e+05       58.002979  \n",
      "1     6.875094e+05       60.247296  \n",
      "2     6.804746e+05       60.576086  \n",
      "3     6.904894e+05       62.488665  \n",
      "4     5.000000e-09        0.000000  \n",
      "...            ...             ...  \n",
      "2235  4.333633e+04     1030.006850  \n",
      "2236  6.282904e+04    21093.061526  \n",
      "2237  5.751717e+04     1001.215295  \n",
      "2238  4.758002e+04     1046.094316  \n",
      "2239  4.333625e+04     1084.059527  \n",
      "\n",
      "[2240 rows x 7 columns], 'data_periods':       RegionCode  CommodityCode  domain       price      quantity  \\\n",
      "0             a0           80.0  Demand   57.000000  8.618000e+03   \n",
      "1             a0           81.0  Demand    0.000000  1.000000e-10   \n",
      "2             a0           82.0  Demand   98.999891  5.200000e+01   \n",
      "3             a0           83.0  Demand  325.503848  2.103009e+03   \n",
      "4             a0           84.0  Demand  639.855725  8.500038e+01   \n",
      "...          ...            ...     ...         ...           ...   \n",
      "50675         zy           89.0  Supply    0.000000  1.000000e-10   \n",
      "50676         zy           90.0  Supply    0.000000  1.000000e-10   \n",
      "50677         zy           91.0  Supply    0.000000  1.000000e-10   \n",
      "50678         zy           92.0  Supply    0.000000  1.000000e-10   \n",
      "50679         zy           93.0  Supply    0.000000  1.000000e-10   \n",
      "\n",
      "       elasticity_price      slope    intercept  Period  year  shadow_price  \\\n",
      "0             -0.058824  -0.112439  1026.000000       0  2017     57.000000   \n",
      "1              0.000000   0.000000     0.000000       0  2017      0.000000   \n",
      "2             -0.058824 -32.365385  1782.000000       0  2017     98.999891   \n",
      "3             -0.410256  -0.377282  1118.932031       0  2017    325.503848   \n",
      "4             -0.755556  -9.963218  1486.733529       0  2017    639.855725   \n",
      "...                 ...        ...          ...     ...   ...           ...   \n",
      "50675          0.000000   0.000000     0.000000       3  2030      0.000000   \n",
      "50676          0.000000   0.000000     0.000000       3  2030      0.000000   \n",
      "50677          0.000000   0.000000     0.000000       3  2030      0.000000   \n",
      "50678          0.000000   0.000000     0.000000       3  2030      0.000000   \n",
      "50679          0.000000   0.000000     0.000000       3  2030      0.000000   \n",
      "\n",
      "        lower_bound   upper_bound  \n",
      "0      6.463500e+03  1.077250e+04  \n",
      "1      7.500000e-11  1.250000e-10  \n",
      "2      3.900000e+01  6.500000e+01  \n",
      "3      1.577250e+03  2.628750e+03  \n",
      "4      6.375000e+01  1.062500e+02  \n",
      "...             ...           ...  \n",
      "50675  0.000000e+00  1.000000e+16  \n",
      "50676  0.000000e+00  4.130000e+02  \n",
      "50677  0.000000e+00  5.400000e+01  \n",
      "50678  0.000000e+00  1.000000e+16  \n",
      "50679  0.000000e+00  1.000000e+16  \n",
      "\n",
      "[50680 rows x 13 columns], 'WorldPrices':     CommodityCode  Period     WorldPrice\n",
      "0            80.0       0  257140.514432\n",
      "1            81.0       0  339090.761274\n",
      "2            82.0       0       0.000000\n",
      "3            83.0       0  538396.212542\n",
      "4            84.0       0  176741.487405\n",
      "5            85.0       0   25864.428446\n",
      "6            86.0       0  115906.435228\n",
      "7            87.0       0   26514.787332\n",
      "8            88.0       0    4924.620988\n",
      "9            89.0       0    1427.289924\n",
      "10           90.0       0   33742.047422\n",
      "11           91.0       0    3903.898646\n",
      "12           92.0       0  116616.236094\n",
      "13           93.0       0   21024.847954\n",
      "14           80.0       1      55.375814\n",
      "15           81.0       1     109.068288\n",
      "16           82.0       1       0.000000\n",
      "17           83.0       1     275.694944\n",
      "18           84.0       1     573.472032\n",
      "19           85.0       1     264.935180\n",
      "20           86.0       1     405.656847\n",
      "21           87.0       1   48702.137645\n",
      "22           88.0       1     617.118625\n",
      "23           89.0       1    1303.474461\n",
      "24           90.0       1     173.495959\n",
      "25           91.0       1     543.858851\n",
      "26           92.0       1     860.786766\n",
      "27           93.0       1     947.086847\n",
      "28           80.0       2      53.001542\n",
      "29           81.0       2     119.154436\n",
      "30           82.0       2       0.000000\n",
      "31           83.0       2     298.081417\n",
      "32           84.0       2     622.501285\n",
      "33           85.0       2     288.851917\n",
      "34           86.0       2     442.984217\n",
      "35           87.0       2     481.335701\n",
      "36           88.0       2     666.179053\n",
      "37           89.0       2    1415.423431\n",
      "38           90.0       2     185.907385\n",
      "39           91.0       2     564.459554\n",
      "40           92.0       2     875.459173\n",
      "41           93.0       2     992.014228\n",
      "42           80.0       3      51.206435\n",
      "43           81.0       3     128.557323\n",
      "44           82.0       3       0.000000\n",
      "45           83.0       3     311.343263\n",
      "46           84.0       3     662.652958\n",
      "47           85.0       3     308.953524\n",
      "48           86.0       3     476.561270\n",
      "49           87.0       3     526.394969\n",
      "50           88.0       3     705.505143\n",
      "51           89.0       3    1533.411951\n",
      "52           90.0       3     199.490008\n",
      "53           91.0       3     583.189805\n",
      "54           92.0       3     893.094917\n",
      "55           93.0       3    1030.006850}\n",
      "{'Forest':       RegionCode  Period   ForStock     ForArea      FGDPCap     alpha  \\\n",
      "0             a0       0         46        1940     4027.502 -0.002767   \n",
      "1             a0       0         46        1940     4027.502 -0.002767   \n",
      "2             a0       0         46        1940     4027.502 -0.002767   \n",
      "3             a0       0         46        1940     4027.502 -0.002767   \n",
      "4             a0       0         46        1940     4027.502 -0.002767   \n",
      "...          ...     ...        ...         ...          ...       ...   \n",
      "10075         r9       3  370.14074  4091.58507  7837.043544  0.009176   \n",
      "10076         r9       3  370.14074  4091.58507  7837.043544  0.009176   \n",
      "10077         r9       3  370.14074  4091.58507  7837.043544  0.009176   \n",
      "10078         r9       3  370.14074  4091.58507  7837.043544  0.009176   \n",
      "10079         r9       3  370.14074  4091.58507  7837.043544  0.009176   \n",
      "\n",
      "          gamma        ga       gu  supply_from_forest CO2Price  \\\n",
      "0      0.011213       NaN      NaN                 NaN        0   \n",
      "1      0.011213       NaN      NaN                 NaN        0   \n",
      "2      0.011213       NaN      NaN                 NaN        0   \n",
      "3      0.011213       NaN      NaN                 NaN        0   \n",
      "4      0.011213       NaN      NaN                 NaN        0   \n",
      "...         ...       ...      ...                 ...      ...   \n",
      "10075  0.007381  0.050841  0.10716            0.052285        0   \n",
      "10076  0.007381  0.050841  0.10716            0.052285        0   \n",
      "10077  0.007381  0.050841  0.10716            0.052285        0   \n",
      "10078  0.007381  0.050841  0.10716            0.052285        0   \n",
      "10079  0.007381  0.050841  0.10716            0.052285        0   \n",
      "\n",
      "             Scenario   Model  ID  \n",
      "0      test2_read_pkl  GFPMpt   1  \n",
      "1      test2_read_pkl  GFPMpt   1  \n",
      "2      test2_read_pkl  GFPMpt   1  \n",
      "3      test2_read_pkl  GFPMpt   1  \n",
      "4      test2_read_pkl  GFPMpt   1  \n",
      "...               ...     ...  ..  \n",
      "10075  test2_read_pkl  GFPMpt   1  \n",
      "10076  test2_read_pkl  GFPMpt   1  \n",
      "10077  test2_read_pkl  GFPMpt   1  \n",
      "10078  test2_read_pkl  GFPMpt   1  \n",
      "10079  test2_read_pkl  GFPMpt   1  \n",
      "\n",
      "[10080 rows x 14 columns], 'ManufactureCost':       RegionCode  CommodityCode  Period  ManuCost  raw_material_costs  \\\n",
      "0             a0           80.0       0    0.0000            0.000000   \n",
      "1             a0           81.0       0    0.0000            0.000000   \n",
      "2             a0           82.0       0    0.0000            0.000000   \n",
      "3             a0           83.0       0   77.1190          248.388537   \n",
      "4             a0           84.0       0  391.4715          248.388525   \n",
      "...          ...            ...     ...       ...                 ...   \n",
      "10131         zy           89.0       3    0.0000            0.000000   \n",
      "10132         zy           90.0       3    0.0000            0.000000   \n",
      "10133         zy           91.0       3    0.0000            0.000000   \n",
      "10134         zy           92.0       3    0.0000            0.000000   \n",
      "10135         zy           93.0       3    0.0000            0.000000   \n",
      "\n",
      "       total_production_costs        Scenario   Model  ID  \n",
      "0                    0.000000  test2_read_pkl  GFPMpt   1  \n",
      "1                    0.000000  test2_read_pkl  GFPMpt   1  \n",
      "2                    0.000000  test2_read_pkl  GFPMpt   1  \n",
      "3                  325.507537  test2_read_pkl  GFPMpt   1  \n",
      "4                  639.860025  test2_read_pkl  GFPMpt   1  \n",
      "...                       ...             ...     ...  ..  \n",
      "10131                0.000000  test2_read_pkl  GFPMpt   1  \n",
      "10132                0.000000  test2_read_pkl  GFPMpt   1  \n",
      "10133                0.000000  test2_read_pkl  GFPMpt   1  \n",
      "10134                0.000000  test2_read_pkl  GFPMpt   1  \n",
      "10135                0.000000  test2_read_pkl  GFPMpt   1  \n",
      "\n",
      "[10136 rows x 9 columns], 'data_aggregated':      ContinentNew  CommodityCode                domain  Period  year  \\\n",
      "0          Africa           80.0                Demand       0  2017   \n",
      "1          Africa           80.0                Demand       1  2020   \n",
      "2          Africa           80.0                Demand       2  2025   \n",
      "3          Africa           80.0                Demand       3  2030   \n",
      "4          Africa           80.0       ManufactureCost       0  2017   \n",
      "...           ...            ...                   ...     ...   ...   \n",
      "2235       Global           93.0  TransportationExport       3  2030   \n",
      "2236       Global           93.0  TransportationImport       0  2017   \n",
      "2237       Global           93.0  TransportationImport       1  2020   \n",
      "2238       Global           93.0  TransportationImport       2  2025   \n",
      "2239       Global           93.0  TransportationImport       3  2030   \n",
      "\n",
      "          quantity  weighted_price        Scenario   Model  ID  \n",
      "0     6.827340e+05       58.002979  test2_read_pkl  GFPMpt   1  \n",
      "1     6.875094e+05       60.247296  test2_read_pkl  GFPMpt   1  \n",
      "2     6.804746e+05       60.576086  test2_read_pkl  GFPMpt   1  \n",
      "3     6.904894e+05       62.488665  test2_read_pkl  GFPMpt   1  \n",
      "4     5.000000e-09        0.000000  test2_read_pkl  GFPMpt   1  \n",
      "...            ...             ...             ...     ...  ..  \n",
      "2235  4.333633e+04     1030.006850  test2_read_pkl  GFPMpt   1  \n",
      "2236  6.282904e+04    21093.061526  test2_read_pkl  GFPMpt   1  \n",
      "2237  5.751717e+04     1001.215295  test2_read_pkl  GFPMpt   1  \n",
      "2238  4.758002e+04     1046.094316  test2_read_pkl  GFPMpt   1  \n",
      "2239  4.333625e+04     1084.059527  test2_read_pkl  GFPMpt   1  \n",
      "\n",
      "[2240 rows x 10 columns], 'data_periods':        RegionCode  CommodityCode  domain       price      quantity  \\\n",
      "0              a0           80.0  Demand   57.000000  8.618000e+03   \n",
      "1              a0           81.0  Demand    0.000000  1.000000e-10   \n",
      "2              a0           82.0  Demand   98.999893  5.200000e+01   \n",
      "3              a0           83.0  Demand  325.503845  2.103009e+03   \n",
      "4              a0           84.0  Demand  639.855713  8.500038e+01   \n",
      "...           ...            ...     ...         ...           ...   \n",
      "126695         zy           89.0  Supply    0.000000  0.000000e+00   \n",
      "126696         zy           90.0  Supply  246.399994  4.130000e+02   \n",
      "126697         zy           91.0  Supply  474.600006  5.400000e+01   \n",
      "126698         zy           92.0  Supply    0.000000  0.000000e+00   \n",
      "126699         zy           93.0  Supply    0.000000  0.000000e+00   \n",
      "\n",
      "        elasticity_price      slope    intercept  Period  year  shadow_price  \\\n",
      "0              -0.058824  -0.112439  1026.000000       0  2017     57.000000   \n",
      "1               0.000000   0.000000     0.000000       0  2017      0.000000   \n",
      "2              -0.058824 -32.365383  1782.000000       0  2017     98.999893   \n",
      "3              -0.410256  -0.377282  1118.932007       0  2017    325.503845   \n",
      "4              -0.755556  -9.963218  1486.733521       0  2017    639.855713   \n",
      "...                  ...        ...          ...     ...   ...           ...   \n",
      "126695          0.000000   0.000000     0.000000       9  2060      0.000000   \n",
      "126696          0.000000   0.000000     0.000000       9  2060      0.000000   \n",
      "126697          0.000000   0.000000     0.000000       9  2060      0.000000   \n",
      "126698          0.000000   0.000000     0.000000       9  2060      0.000000   \n",
      "126699          0.000000   0.000000     0.000000       9  2060      0.000000   \n",
      "\n",
      "         lower_bound   upper_bound        Scenario   Model  ID  \n",
      "0       6.463500e+03  1.077250e+04  test2_read_pkl  GFPMpt   1  \n",
      "1       7.500000e-11  1.250000e-10  test2_read_pkl  GFPMpt   1  \n",
      "2       3.900000e+01  6.500000e+01  test2_read_pkl  GFPMpt   1  \n",
      "3       1.577250e+03  2.628750e+03  test2_read_pkl  GFPMpt   1  \n",
      "4       6.375000e+01  1.062500e+02  test2_read_pkl  GFPMpt   1  \n",
      "...              ...           ...             ...     ...  ..  \n",
      "126695  0.000000e+00  0.000000e+00        World500    GFPM   0  \n",
      "126696  0.000000e+00  0.000000e+00        World500    GFPM   0  \n",
      "126697  0.000000e+00  0.000000e+00        World500    GFPM   0  \n",
      "126698  0.000000e+00  0.000000e+00        World500    GFPM   0  \n",
      "126699  0.000000e+00  0.000000e+00        World500    GFPM   0  \n",
      "\n",
      "[177380 rows x 16 columns], 'WorldPrices':     CommodityCode  Period     WorldPrice        Scenario   Model  ID\n",
      "0            80.0       0  257140.514432  test2_read_pkl  GFPMpt   1\n",
      "1            81.0       0  339090.761274  test2_read_pkl  GFPMpt   1\n",
      "2            82.0       0       0.000000  test2_read_pkl  GFPMpt   1\n",
      "3            83.0       0  538396.212542  test2_read_pkl  GFPMpt   1\n",
      "4            84.0       0  176741.487405  test2_read_pkl  GFPMpt   1\n",
      "5            85.0       0   25864.428446  test2_read_pkl  GFPMpt   1\n",
      "6            86.0       0  115906.435228  test2_read_pkl  GFPMpt   1\n",
      "7            87.0       0   26514.787332  test2_read_pkl  GFPMpt   1\n",
      "8            88.0       0    4924.620988  test2_read_pkl  GFPMpt   1\n",
      "9            89.0       0    1427.289924  test2_read_pkl  GFPMpt   1\n",
      "10           90.0       0   33742.047422  test2_read_pkl  GFPMpt   1\n",
      "11           91.0       0    3903.898646  test2_read_pkl  GFPMpt   1\n",
      "12           92.0       0  116616.236094  test2_read_pkl  GFPMpt   1\n",
      "13           93.0       0   21024.847954  test2_read_pkl  GFPMpt   1\n",
      "14           80.0       1      55.375814  test2_read_pkl  GFPMpt   1\n",
      "15           81.0       1     109.068288  test2_read_pkl  GFPMpt   1\n",
      "16           82.0       1       0.000000  test2_read_pkl  GFPMpt   1\n",
      "17           83.0       1     275.694944  test2_read_pkl  GFPMpt   1\n",
      "18           84.0       1     573.472032  test2_read_pkl  GFPMpt   1\n",
      "19           85.0       1     264.935180  test2_read_pkl  GFPMpt   1\n",
      "20           86.0       1     405.656847  test2_read_pkl  GFPMpt   1\n",
      "21           87.0       1   48702.137645  test2_read_pkl  GFPMpt   1\n",
      "22           88.0       1     617.118625  test2_read_pkl  GFPMpt   1\n",
      "23           89.0       1    1303.474461  test2_read_pkl  GFPMpt   1\n",
      "24           90.0       1     173.495959  test2_read_pkl  GFPMpt   1\n",
      "25           91.0       1     543.858851  test2_read_pkl  GFPMpt   1\n",
      "26           92.0       1     860.786766  test2_read_pkl  GFPMpt   1\n",
      "27           93.0       1     947.086847  test2_read_pkl  GFPMpt   1\n",
      "28           80.0       2      53.001542  test2_read_pkl  GFPMpt   1\n",
      "29           81.0       2     119.154436  test2_read_pkl  GFPMpt   1\n",
      "30           82.0       2       0.000000  test2_read_pkl  GFPMpt   1\n",
      "31           83.0       2     298.081417  test2_read_pkl  GFPMpt   1\n",
      "32           84.0       2     622.501285  test2_read_pkl  GFPMpt   1\n",
      "33           85.0       2     288.851917  test2_read_pkl  GFPMpt   1\n",
      "34           86.0       2     442.984217  test2_read_pkl  GFPMpt   1\n",
      "35           87.0       2     481.335701  test2_read_pkl  GFPMpt   1\n",
      "36           88.0       2     666.179053  test2_read_pkl  GFPMpt   1\n",
      "37           89.0       2    1415.423431  test2_read_pkl  GFPMpt   1\n",
      "38           90.0       2     185.907385  test2_read_pkl  GFPMpt   1\n",
      "39           91.0       2     564.459554  test2_read_pkl  GFPMpt   1\n",
      "40           92.0       2     875.459173  test2_read_pkl  GFPMpt   1\n",
      "41           93.0       2     992.014228  test2_read_pkl  GFPMpt   1\n",
      "42           80.0       3      51.206435  test2_read_pkl  GFPMpt   1\n",
      "43           81.0       3     128.557323  test2_read_pkl  GFPMpt   1\n",
      "44           82.0       3       0.000000  test2_read_pkl  GFPMpt   1\n",
      "45           83.0       3     311.343263  test2_read_pkl  GFPMpt   1\n",
      "46           84.0       3     662.652958  test2_read_pkl  GFPMpt   1\n",
      "47           85.0       3     308.953524  test2_read_pkl  GFPMpt   1\n",
      "48           86.0       3     476.561270  test2_read_pkl  GFPMpt   1\n",
      "49           87.0       3     526.394969  test2_read_pkl  GFPMpt   1\n",
      "50           88.0       3     705.505143  test2_read_pkl  GFPMpt   1\n",
      "51           89.0       3    1533.411951  test2_read_pkl  GFPMpt   1\n",
      "52           90.0       3     199.490008  test2_read_pkl  GFPMpt   1\n",
      "53           91.0       3     583.189805  test2_read_pkl  GFPMpt   1\n",
      "54           92.0       3     893.094917  test2_read_pkl  GFPMpt   1\n",
      "55           93.0       3    1030.006850  test2_read_pkl  GFPMpt   1}\n"
     ]
    }
   ],
   "source": [
    "import_pkl = import_pkl_data()\n",
    "data = import_pkl.combined_data()\n",
    "print(data)"
   ]
  },
  {
   "cell_type": "markdown",
   "metadata": {},
   "source": [
    "### Plot predefined scenario results "
   ]
  },
  {
   "cell_type": "code",
   "execution_count": 4,
   "metadata": {},
   "outputs": [
    {
     "data": {
      "image/png": "[encoded data removed]",
      "text/plain": [
       "<Figure size 864x576 with 1 Axes>"
      ]
     },
     "metadata": {
      "needs_background": "light"
     },
     "output_type": "display_data"
    }
   ],
   "source": [
    "#data = import_pkl.julias_data()\n",
    "data = data[\"data_periods\"]\n",
    "sc_plot = sc_plot()\n",
    "sc_plot.predefined_plot(data)"
   ]
  },
  {
   "cell_type": "markdown",
   "metadata": {},
   "source": [
    "### Interactive scenario results (quantities)"
   ]
  },
  {
   "cell_type": "code",
   "execution_count": 6,
   "metadata": {},
   "outputs": [
    {
     "data": {
      "application/vnd.jupyter.widget-view+json": {
       "model_id": "2407d0de2e2d442a9d5107271dd7cc5c",
       "version_major": 2,
       "version_minor": 0
      },
      "text/plain": [
       "interactive(children=(Dropdown(description='Select RegionCode:', options=('Alle', 'a0', 'a1', 'a2', 'a3', 'a4'…"
      ]
     },
     "metadata": {},
     "output_type": "display_data"
    },
    {
     "ename": "AttributeError",
     "evalue": "'PlotDropDown' object has no attribute 'update_plot_data'",
     "output_type": "error",
     "traceback": [
      "\u001b[1;31m---------------------------------------------------------------------------\u001b[0m",
      "\u001b[1;31mAttributeError\u001b[0m                            Traceback (most recent call last)",
      "\u001b[1;32m~\\AppData\\Local\\Temp\\ipykernel_24924\\831915157.py\u001b[0m in \u001b[0;36m<module>\u001b[1;34m\u001b[0m\n\u001b[0;32m      1\u001b[0m \u001b[0mplot_dropdown_instance\u001b[0m \u001b[1;33m=\u001b[0m \u001b[0mPlotDropDown\u001b[0m\u001b[1;33m(\u001b[0m\u001b[0mdata\u001b[0m\u001b[1;33m)\u001b[0m\u001b[1;33m\u001b[0m\u001b[1;33m\u001b[0m\u001b[0m\n\u001b[1;32m----> 2\u001b[1;33m plot_dropdown_instance.update_plot_data(region=plot_dropdown_instance.regioncode_dropdown.value,\n\u001b[0m\u001b[0;32m      3\u001b[0m                                         \u001b[0mmodel\u001b[0m\u001b[1;33m=\u001b[0m\u001b[0mplot_dropdown_instance\u001b[0m\u001b[1;33m.\u001b[0m\u001b[0mmodel_dropdown\u001b[0m\u001b[1;33m.\u001b[0m\u001b[0mvalue\u001b[0m\u001b[1;33m,\u001b[0m\u001b[1;33m\u001b[0m\u001b[1;33m\u001b[0m\u001b[0m\n\u001b[0;32m      4\u001b[0m                                         \u001b[0mid\u001b[0m\u001b[1;33m=\u001b[0m\u001b[0mplot_dropdown_instance\u001b[0m\u001b[1;33m.\u001b[0m\u001b[0mid_dropdown\u001b[0m\u001b[1;33m.\u001b[0m\u001b[0mvalue\u001b[0m\u001b[1;33m,\u001b[0m\u001b[1;33m\u001b[0m\u001b[1;33m\u001b[0m\u001b[0m\n\u001b[0;32m      5\u001b[0m                                         \u001b[0mdomain\u001b[0m\u001b[1;33m=\u001b[0m\u001b[0mplot_dropdown_instance\u001b[0m\u001b[1;33m.\u001b[0m\u001b[0mdomain_dropdown\u001b[0m\u001b[1;33m.\u001b[0m\u001b[0mvalue\u001b[0m\u001b[1;33m,\u001b[0m\u001b[1;33m\u001b[0m\u001b[1;33m\u001b[0m\u001b[0m\n",
      "\u001b[1;31mAttributeError\u001b[0m: 'PlotDropDown' object has no attribute 'update_plot_data'"
     ]
    }
   ],
   "source": [
    "plot_dropdown_instance = PlotDropDown(data)\n",
    "plot_dropdown_instance.update_plot_data(region=plot_dropdown_instance.regioncode_dropdown.value,\n",
    "                                        model=plot_dropdown_instance.model_dropdown.value,\n",
    "                                        id=plot_dropdown_instance.id_dropdown.value,\n",
    "                                        domain=plot_dropdown_instance.domain_dropdown.value,\n",
    "                                        commodity=plot_dropdown_instance.commodity_code_dropdown.value)"
   ]
  },
  {
   "cell_type": "markdown",
   "metadata": {},
   "source": [
    "### Interactive scenario results (prices)"
   ]
  },
  {
   "cell_type": "code",
   "execution_count": 29,
   "metadata": {},
   "outputs": [
    {
     "data": {
      "application/vnd.jupyter.widget-view+json": {
       "model_id": "70a7211c659342e7b3f8c97bb530fb12",
       "version_major": 2,
       "version_minor": 0
      },
      "text/plain": [
       "Dropdown(description='Select RegionCode:', options=('Alle', 'a0', 'a1', 'a2', 'a3', 'a4', 'a5', 'a6', 'a7', 'a…"
      ]
     },
     "metadata": {},
     "output_type": "display_data"
    },
    {
     "data": {
      "application/vnd.jupyter.widget-view+json": {
       "model_id": "52c5004970904a1cba39119281d66a0a",
       "version_major": 2,
       "version_minor": 0
      },
      "text/plain": [
       "Dropdown(description='Select Model:', options=('Alle', 'GFPMpt', 'GFPM'), value='Alle')"
      ]
     },
     "metadata": {},
     "output_type": "display_data"
    },
    {
     "data": {
      "application/vnd.jupyter.widget-view+json": {
       "model_id": "c1f6fa7b4acf40a2a5c45712eafef28d",
       "version_major": 2,
       "version_minor": 0
      },
      "text/plain": [
       "Dropdown(description='Select ID:', options=('Alle', 1, 0), value='Alle')"
      ]
     },
     "metadata": {},
     "output_type": "display_data"
    },
    {
     "data": {
      "application/vnd.jupyter.widget-view+json": {
       "model_id": "27bebc1504bc4e26a78bb587f16afdb1",
       "version_major": 2,
       "version_minor": 0
      },
      "text/plain": [
       "Dropdown(description='Select Domain:', options=('Alle', 'Demand', 'TransportationExport', 'TransportationImpor…"
      ]
     },
     "metadata": {},
     "output_type": "display_data"
    },
    {
     "data": {
      "application/vnd.jupyter.widget-view+json": {
       "model_id": "25e0e103b8754a288152519ff8fe7e6f",
       "version_major": 2,
       "version_minor": 0
      },
      "text/plain": [
       "Dropdown(description='Select CommodityCode:', options=('Alle', 80.0, 81.0, 82.0, 83.0, 84.0, 85.0, 86.0, 87.0,…"
      ]
     },
     "metadata": {},
     "output_type": "display_data"
    },
    {
     "data": {
      "application/vnd.jupyter.widget-view+json": {
       "model_id": "47b146e3d71644a1b92dbf923e6a3455",
       "version_major": 2,
       "version_minor": 0
      },
      "text/plain": [
       "Output()"
      ]
     },
     "metadata": {},
     "output_type": "display_data"
    },
    {
     "data": {
      "application/vnd.jupyter.widget-view+json": {
       "model_id": "ee5bcbd924284c4fb8329968fde02532",
       "version_major": 2,
       "version_minor": 0
      },
      "text/plain": [
       "Output()"
      ]
     },
     "metadata": {},
     "output_type": "display_data"
    }
   ],
   "source": [
    "price_interactive = InteractivePrice(data)\n",
    "\n",
    "\n"
   ]
  },
  {
   "cell_type": "markdown",
   "metadata": {},
   "source": [
    "### Interactive Heatmap"
   ]
  },
  {
   "cell_type": "code",
   "execution_count": 7,
   "metadata": {},
   "outputs": [
    {
     "ename": "KeyError",
     "evalue": "'data_periods'",
     "output_type": "error",
     "traceback": [
      "\u001b[1;31m---------------------------------------------------------------------------\u001b[0m",
      "\u001b[1;31mKeyError\u001b[0m                                  Traceback (most recent call last)",
      "\u001b[1;32mc:\\Python397\\lib\\site-packages\\pandas\\core\\indexes\\base.py\u001b[0m in \u001b[0;36mget_loc\u001b[1;34m(self, key, method, tolerance)\u001b[0m\n\u001b[0;32m   3801\u001b[0m             \u001b[1;32mtry\u001b[0m\u001b[1;33m:\u001b[0m\u001b[1;33m\u001b[0m\u001b[1;33m\u001b[0m\u001b[0m\n\u001b[1;32m-> 3802\u001b[1;33m                 \u001b[1;32mreturn\u001b[0m \u001b[0mself\u001b[0m\u001b[1;33m.\u001b[0m\u001b[0m_engine\u001b[0m\u001b[1;33m.\u001b[0m\u001b[0mget_loc\u001b[0m\u001b[1;33m(\u001b[0m\u001b[0mcasted_key\u001b[0m\u001b[1;33m)\u001b[0m\u001b[1;33m\u001b[0m\u001b[1;33m\u001b[0m\u001b[0m\n\u001b[0m\u001b[0;32m   3803\u001b[0m             \u001b[1;32mexcept\u001b[0m \u001b[0mKeyError\u001b[0m \u001b[1;32mas\u001b[0m \u001b[0merr\u001b[0m\u001b[1;33m:\u001b[0m\u001b[1;33m\u001b[0m\u001b[1;33m\u001b[0m\u001b[0m\n",
      "\u001b[1;32mc:\\Python397\\lib\\site-packages\\pandas\\_libs\\index.pyx\u001b[0m in \u001b[0;36mpandas._libs.index.IndexEngine.get_loc\u001b[1;34m()\u001b[0m\n",
      "\u001b[1;32mc:\\Python397\\lib\\site-packages\\pandas\\_libs\\index.pyx\u001b[0m in \u001b[0;36mpandas._libs.index.IndexEngine.get_loc\u001b[1;34m()\u001b[0m\n",
      "\u001b[1;32mpandas\\_libs\\hashtable_class_helper.pxi\u001b[0m in \u001b[0;36mpandas._libs.hashtable.PyObjectHashTable.get_item\u001b[1;34m()\u001b[0m\n",
      "\u001b[1;32mpandas\\_libs\\hashtable_class_helper.pxi\u001b[0m in \u001b[0;36mpandas._libs.hashtable.PyObjectHashTable.get_item\u001b[1;34m()\u001b[0m\n",
      "\u001b[1;31mKeyError\u001b[0m: 'data_periods'",
      "\nThe above exception was the direct cause of the following exception:\n",
      "\u001b[1;31mKeyError\u001b[0m                                  Traceback (most recent call last)",
      "\u001b[1;32m~\\AppData\\Local\\Temp\\ipykernel_24924\\406067347.py\u001b[0m in \u001b[0;36m<module>\u001b[1;34m\u001b[0m\n\u001b[1;32m----> 1\u001b[1;33m \u001b[0mdata_selection\u001b[0m \u001b[1;33m=\u001b[0m \u001b[0mdata\u001b[0m\u001b[1;33m[\u001b[0m\u001b[1;34m'data_periods'\u001b[0m\u001b[1;33m]\u001b[0m\u001b[1;33m\u001b[0m\u001b[1;33m\u001b[0m\u001b[0m\n\u001b[0m\u001b[0;32m      2\u001b[0m \u001b[1;33m\u001b[0m\u001b[0m\n\u001b[0;32m      3\u001b[0m \u001b[0mheatmap_dropdown_instance\u001b[0m \u001b[1;33m=\u001b[0m \u001b[0mHeatmapDropDown\u001b[0m\u001b[1;33m(\u001b[0m\u001b[0mdata\u001b[0m\u001b[1;33m=\u001b[0m\u001b[0mdata_selection\u001b[0m\u001b[1;33m)\u001b[0m\u001b[1;33m\u001b[0m\u001b[1;33m\u001b[0m\u001b[0m\n\u001b[0;32m      4\u001b[0m heatmap_dropdown_instance.update_heatmap_data(reference_data=heatmap_dropdown_instance.reference_data_dropdown.value,\n\u001b[0;32m      5\u001b[0m                                               \u001b[0mvalidation_data\u001b[0m\u001b[1;33m=\u001b[0m\u001b[0mheatmap_dropdown_instance\u001b[0m\u001b[1;33m.\u001b[0m\u001b[0mvalidation_data_dropdown\u001b[0m\u001b[1;33m.\u001b[0m\u001b[0mvalue\u001b[0m\u001b[1;33m,\u001b[0m\u001b[1;33m\u001b[0m\u001b[1;33m\u001b[0m\u001b[0m\n",
      "\u001b[1;32mc:\\Python397\\lib\\site-packages\\pandas\\core\\frame.py\u001b[0m in \u001b[0;36m__getitem__\u001b[1;34m(self, key)\u001b[0m\n\u001b[0;32m   3805\u001b[0m             \u001b[1;32mif\u001b[0m \u001b[0mself\u001b[0m\u001b[1;33m.\u001b[0m\u001b[0mcolumns\u001b[0m\u001b[1;33m.\u001b[0m\u001b[0mnlevels\u001b[0m \u001b[1;33m>\u001b[0m \u001b[1;36m1\u001b[0m\u001b[1;33m:\u001b[0m\u001b[1;33m\u001b[0m\u001b[1;33m\u001b[0m\u001b[0m\n\u001b[0;32m   3806\u001b[0m                 \u001b[1;32mreturn\u001b[0m \u001b[0mself\u001b[0m\u001b[1;33m.\u001b[0m\u001b[0m_getitem_multilevel\u001b[0m\u001b[1;33m(\u001b[0m\u001b[0mkey\u001b[0m\u001b[1;33m)\u001b[0m\u001b[1;33m\u001b[0m\u001b[1;33m\u001b[0m\u001b[0m\n\u001b[1;32m-> 3807\u001b[1;33m             \u001b[0mindexer\u001b[0m \u001b[1;33m=\u001b[0m \u001b[0mself\u001b[0m\u001b[1;33m.\u001b[0m\u001b[0mcolumns\u001b[0m\u001b[1;33m.\u001b[0m\u001b[0mget_loc\u001b[0m\u001b[1;33m(\u001b[0m\u001b[0mkey\u001b[0m\u001b[1;33m)\u001b[0m\u001b[1;33m\u001b[0m\u001b[1;33m\u001b[0m\u001b[0m\n\u001b[0m\u001b[0;32m   3808\u001b[0m             \u001b[1;32mif\u001b[0m \u001b[0mis_integer\u001b[0m\u001b[1;33m(\u001b[0m\u001b[0mindexer\u001b[0m\u001b[1;33m)\u001b[0m\u001b[1;33m:\u001b[0m\u001b[1;33m\u001b[0m\u001b[1;33m\u001b[0m\u001b[0m\n\u001b[0;32m   3809\u001b[0m                 \u001b[0mindexer\u001b[0m \u001b[1;33m=\u001b[0m \u001b[1;33m[\u001b[0m\u001b[0mindexer\u001b[0m\u001b[1;33m]\u001b[0m\u001b[1;33m\u001b[0m\u001b[1;33m\u001b[0m\u001b[0m\n",
      "\u001b[1;32mc:\\Python397\\lib\\site-packages\\pandas\\core\\indexes\\base.py\u001b[0m in \u001b[0;36mget_loc\u001b[1;34m(self, key, method, tolerance)\u001b[0m\n\u001b[0;32m   3802\u001b[0m                 \u001b[1;32mreturn\u001b[0m \u001b[0mself\u001b[0m\u001b[1;33m.\u001b[0m\u001b[0m_engine\u001b[0m\u001b[1;33m.\u001b[0m\u001b[0mget_loc\u001b[0m\u001b[1;33m(\u001b[0m\u001b[0mcasted_key\u001b[0m\u001b[1;33m)\u001b[0m\u001b[1;33m\u001b[0m\u001b[1;33m\u001b[0m\u001b[0m\n\u001b[0;32m   3803\u001b[0m             \u001b[1;32mexcept\u001b[0m \u001b[0mKeyError\u001b[0m \u001b[1;32mas\u001b[0m \u001b[0merr\u001b[0m\u001b[1;33m:\u001b[0m\u001b[1;33m\u001b[0m\u001b[1;33m\u001b[0m\u001b[0m\n\u001b[1;32m-> 3804\u001b[1;33m                 \u001b[1;32mraise\u001b[0m \u001b[0mKeyError\u001b[0m\u001b[1;33m(\u001b[0m\u001b[0mkey\u001b[0m\u001b[1;33m)\u001b[0m \u001b[1;32mfrom\u001b[0m \u001b[0merr\u001b[0m\u001b[1;33m\u001b[0m\u001b[1;33m\u001b[0m\u001b[0m\n\u001b[0m\u001b[0;32m   3805\u001b[0m             \u001b[1;32mexcept\u001b[0m \u001b[0mTypeError\u001b[0m\u001b[1;33m:\u001b[0m\u001b[1;33m\u001b[0m\u001b[1;33m\u001b[0m\u001b[0m\n\u001b[0;32m   3806\u001b[0m                 \u001b[1;31m# If we have a listlike key, _check_indexing_error will raise\u001b[0m\u001b[1;33m\u001b[0m\u001b[1;33m\u001b[0m\u001b[0m\n",
      "\u001b[1;31mKeyError\u001b[0m: 'data_periods'"
     ]
    }
   ],
   "source": [
    "data_selection = data['data_periods']\n",
    "\n",
    "heatmap_dropdown_instance = HeatmapDropDown(data=data_selection)\n",
    "heatmap_dropdown_instance.update_heatmap_data(reference_data=heatmap_dropdown_instance.reference_data_dropdown.value,\n",
    "                                              validation_data=heatmap_dropdown_instance.validation_data_dropdown.value,\n",
    "                                              comparator=heatmap_dropdown_instance.comparator_dropdown.value,\n",
    "                                              region=heatmap_dropdown_instance.regioncode_dropdown.value,\n",
    "                                              commodity=heatmap_dropdown_instance.regioncode_dropdown.value,\n",
    "                                              domain=heatmap_dropdown_instance.domain_dropdown.value\n",
    "                                              )"
   ]
  }
 ],
 "metadata": {
  "kernelspec": {
   "display_name": "Python 3",
   "language": "python",
   "name": "python3"
  },
  "language_info": {
   "codemirror_mode": {
    "name": "ipython",
    "version": 3
   },
   "file_extension": ".py",
   "mimetype": "text/x-python",
   "name": "python",
   "nbconvert_exporter": "python",
   "pygments_lexer": "ipython3",
   "version": "3.9.7"
  }
 },
 "nbformat": 4,
 "nbformat_minor": 2
}
