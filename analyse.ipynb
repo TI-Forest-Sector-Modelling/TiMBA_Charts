{
 "cells": [
  {
   "cell_type": "markdown",
   "metadata": {},
   "source": [
    "### Import neccassary packages"
   ]
  },
  {
   "cell_type": "code",
   "execution_count": 20,
   "metadata": {},
   "outputs": [],
   "source": [
    "import pandas as pd\n",
    "from classes.import_data import package_directory, parameters\n",
    "from classes.import_data import import_pkl_data\n",
    "from classes.scenario_plots import sc_plot\n",
    "from ipywidgets import interactive, widgets\n",
    "from IPython.display import display, clear_output\n",
    "import matplotlib.pyplot as plt"
   ]
  },
  {
   "cell_type": "markdown",
   "metadata": {},
   "source": [
    "### Identify the actual path of this jupyter file"
   ]
  },
  {
   "cell_type": "code",
   "execution_count": 2,
   "metadata": {},
   "outputs": [
    {
     "name": "stdout",
     "output_type": "stream",
     "text": [
      "c:\\Users\\tandetzki\\Pythonskripte\\analyses_toolbox_gfpmpt_2\\analyses_toolbox_gfpmpt\n"
     ]
    }
   ],
   "source": [
    "PACKAGEDIR = package_directory()\n",
    "print(PACKAGEDIR)"
   ]
  },
  {
   "cell_type": "markdown",
   "metadata": {},
   "source": [
    "### Import data"
   ]
  },
  {
   "cell_type": "code",
   "execution_count": 7,
   "metadata": {},
   "outputs": [
    {
     "ename": "ModuleNotFoundError",
     "evalue": "No module named 'GFPMpt'",
     "output_type": "error",
     "traceback": [
      "\u001b[1;31m---------------------------------------------------------------------------\u001b[0m",
      "\u001b[1;31mModuleNotFoundError\u001b[0m                       Traceback (most recent call last)",
      "\u001b[1;32m~\\AppData\\Local\\Temp\\ipykernel_25268\\306289424.py\u001b[0m in \u001b[0;36m<module>\u001b[1;34m\u001b[0m\n\u001b[0;32m      1\u001b[0m \u001b[0mimport_pkl\u001b[0m \u001b[1;33m=\u001b[0m \u001b[0mimport_pkl_data\u001b[0m\u001b[1;33m(\u001b[0m\u001b[1;33m)\u001b[0m\u001b[1;33m\u001b[0m\u001b[1;33m\u001b[0m\u001b[0m\n\u001b[1;32m----> 2\u001b[1;33m \u001b[0mdata\u001b[0m\u001b[1;33m,\u001b[0m \u001b[0mdata_results\u001b[0m \u001b[1;33m=\u001b[0m \u001b[0mimport_pkl\u001b[0m\u001b[1;33m.\u001b[0m\u001b[0mcombined_data\u001b[0m\u001b[1;33m(\u001b[0m\u001b[1;33m)\u001b[0m\u001b[1;33m\u001b[0m\u001b[1;33m\u001b[0m\u001b[0m\n\u001b[0m",
      "\u001b[1;32mc:\\Users\\tandetzki\\Pythonskripte\\analyses_toolbox_gfpmpt_2\\analyses_toolbox_gfpmpt\\classes\\import_data.py\u001b[0m in \u001b[0;36mcombined_data\u001b[1;34m(self)\u001b[0m\n\u001b[0;32m     87\u001b[0m                                         :-4]\n\u001b[0;32m     88\u001b[0m             \u001b[1;32mtry\u001b[0m\u001b[1;33m:\u001b[0m\u001b[1;33m\u001b[0m\u001b[1;33m\u001b[0m\u001b[0m\n\u001b[1;32m---> 89\u001b[1;33m                 \u001b[0mdata_container\u001b[0m \u001b[1;33m=\u001b[0m \u001b[0mself\u001b[0m\u001b[1;33m.\u001b[0m\u001b[0mopen_pickle\u001b[0m\u001b[1;33m(\u001b[0m\u001b[0msrc_filepath\u001b[0m\u001b[1;33m)\u001b[0m\u001b[1;33m\u001b[0m\u001b[1;33m\u001b[0m\u001b[0m\n\u001b[0m\u001b[0;32m     90\u001b[0m                 \u001b[0mdata\u001b[0m \u001b[1;33m=\u001b[0m \u001b[0mself\u001b[0m\u001b[1;33m.\u001b[0m\u001b[0mread_pkl\u001b[0m\u001b[1;33m(\u001b[0m\u001b[0mdata\u001b[0m\u001b[1;33m=\u001b[0m\u001b[0mdata_container\u001b[0m\u001b[1;33m)\u001b[0m\u001b[1;33m\u001b[0m\u001b[1;33m\u001b[0m\u001b[0m\n\u001b[0;32m     91\u001b[0m                 \u001b[0mself\u001b[0m\u001b[1;33m.\u001b[0m\u001b[0mconcat_scenarios\u001b[0m\u001b[1;33m(\u001b[0m\u001b[0mdata\u001b[0m\u001b[1;33m=\u001b[0m\u001b[0mdata\u001b[0m\u001b[1;33m,\u001b[0m \u001b[0msc_name\u001b[0m\u001b[1;33m=\u001b[0m\u001b[0mscenario_name\u001b[0m\u001b[1;33m,\u001b[0m \u001b[0mdata_prev\u001b[0m\u001b[1;33m=\u001b[0m\u001b[0mdata_prev\u001b[0m\u001b[1;33m,\u001b[0m \u001b[0mID\u001b[0m\u001b[1;33m=\u001b[0m\u001b[0mID\u001b[0m\u001b[1;33m)\u001b[0m\u001b[1;33m\u001b[0m\u001b[1;33m\u001b[0m\u001b[0m\n",
      "\u001b[1;32mc:\\Users\\tandetzki\\Pythonskripte\\analyses_toolbox_gfpmpt_2\\analyses_toolbox_gfpmpt\\classes\\import_data.py\u001b[0m in \u001b[0;36mopen_pickle\u001b[1;34m(self, src_filepath)\u001b[0m\n\u001b[0;32m     31\u001b[0m         \u001b[1;32mimport\u001b[0m \u001b[0mpickle\u001b[0m\u001b[1;33m\u001b[0m\u001b[1;33m\u001b[0m\u001b[0m\n\u001b[0;32m     32\u001b[0m         \u001b[1;32mwith\u001b[0m \u001b[0mopen\u001b[0m\u001b[1;33m(\u001b[0m\u001b[0msrc_filepath\u001b[0m\u001b[1;33m,\u001b[0m \u001b[1;34m\"rb\"\u001b[0m\u001b[1;33m)\u001b[0m \u001b[1;32mas\u001b[0m \u001b[0mpkl_file\u001b[0m\u001b[1;33m:\u001b[0m\u001b[1;33m\u001b[0m\u001b[1;33m\u001b[0m\u001b[0m\n\u001b[1;32m---> 33\u001b[1;33m             \u001b[0mobj\u001b[0m \u001b[1;33m=\u001b[0m \u001b[0mpickle\u001b[0m\u001b[1;33m.\u001b[0m\u001b[0mload\u001b[0m\u001b[1;33m(\u001b[0m\u001b[0mpkl_file\u001b[0m\u001b[1;33m)\u001b[0m\u001b[1;33m\u001b[0m\u001b[1;33m\u001b[0m\u001b[0m\n\u001b[0m\u001b[0;32m     34\u001b[0m         \u001b[1;32mreturn\u001b[0m \u001b[0mobj\u001b[0m\u001b[1;33m\u001b[0m\u001b[1;33m\u001b[0m\u001b[0m\n\u001b[0;32m     35\u001b[0m \u001b[1;33m\u001b[0m\u001b[0m\n",
      "\u001b[1;31mModuleNotFoundError\u001b[0m: No module named 'GFPMpt'"
     ]
    }
   ],
   "source": [
    "import_pkl = import_pkl_data()\n",
    "data, data_results = import_pkl.combined_data()"
   ]
  },
  {
   "cell_type": "markdown",
   "metadata": {},
   "source": [
    "### Plot predefined scenario results "
   ]
  },
  {
   "cell_type": "code",
   "execution_count": 5,
   "metadata": {},
   "outputs": [
    {
     "ename": "TypeError",
     "evalue": "julias_data() takes 0 positional arguments but 1 was given",
     "output_type": "error",
     "traceback": [
      "\u001b[1;31m---------------------------------------------------------------------------\u001b[0m",
      "\u001b[1;31mTypeError\u001b[0m                                 Traceback (most recent call last)",
      "\u001b[1;32m~\\AppData\\Local\\Temp\\ipykernel_25268\\2840195646.py\u001b[0m in \u001b[0;36m<module>\u001b[1;34m\u001b[0m\n\u001b[1;32m----> 1\u001b[1;33m \u001b[0mdata\u001b[0m \u001b[1;33m=\u001b[0m \u001b[0mimport_pkl\u001b[0m\u001b[1;33m.\u001b[0m\u001b[0mjulias_data\u001b[0m\u001b[1;33m(\u001b[0m\u001b[1;33m)\u001b[0m\u001b[1;33m\u001b[0m\u001b[1;33m\u001b[0m\u001b[0m\n\u001b[0m\u001b[0;32m      2\u001b[0m \u001b[1;31m#data = data_results#data[\"results\"]\u001b[0m\u001b[1;33m\u001b[0m\u001b[1;33m\u001b[0m\u001b[0m\n\u001b[0;32m      3\u001b[0m \u001b[1;33m\u001b[0m\u001b[0m\n\u001b[0;32m      4\u001b[0m \u001b[0msc_plot\u001b[0m \u001b[1;33m=\u001b[0m \u001b[0msc_plot\u001b[0m\u001b[1;33m(\u001b[0m\u001b[1;33m)\u001b[0m\u001b[1;33m\u001b[0m\u001b[1;33m\u001b[0m\u001b[0m\n\u001b[0;32m      5\u001b[0m \u001b[0msc_plot\u001b[0m\u001b[1;33m.\u001b[0m\u001b[0mpredefined_plot\u001b[0m\u001b[1;33m(\u001b[0m\u001b[0mdata\u001b[0m\u001b[1;33m)\u001b[0m\u001b[1;33m\u001b[0m\u001b[1;33m\u001b[0m\u001b[0m\n",
      "\u001b[1;31mTypeError\u001b[0m: julias_data() takes 0 positional arguments but 1 was given"
     ]
    }
   ],
   "source": [
    "#data = import_pkl.julias_data()\n",
    "data = data_results#data[\"results\"]\n",
    "\n",
    "sc_plot = sc_plot()\n",
    "sc_plot.predefined_plot(data)"
   ]
  },
  {
   "cell_type": "code",
   "execution_count": 10,
   "metadata": {},
   "outputs": [
    {
     "data": {
      "text/html": [
       "<div>\n",
       "<style scoped>\n",
       "    .dataframe tbody tr th:only-of-type {\n",
       "        vertical-align: middle;\n",
       "    }\n",
       "\n",
       "    .dataframe tbody tr th {\n",
       "        vertical-align: top;\n",
       "    }\n",
       "\n",
       "    .dataframe thead th {\n",
       "        text-align: right;\n",
       "    }\n",
       "</style>\n",
       "<table border=\"1\" class=\"dataframe\">\n",
       "  <thead>\n",
       "    <tr style=\"text-align: right;\">\n",
       "      <th></th>\n",
       "      <th>Scenario</th>\n",
       "      <th>ID</th>\n",
       "      <th>Model</th>\n",
       "      <th>RegionCode</th>\n",
       "      <th>CommodityCode</th>\n",
       "      <th>domain</th>\n",
       "      <th>price</th>\n",
       "      <th>quantity</th>\n",
       "      <th>elasticity_price</th>\n",
       "      <th>slope</th>\n",
       "      <th>intercept</th>\n",
       "      <th>Period</th>\n",
       "      <th>year</th>\n",
       "      <th>shadow_price</th>\n",
       "      <th>lower_bound</th>\n",
       "      <th>upper_bound</th>\n",
       "    </tr>\n",
       "  </thead>\n",
       "  <tbody>\n",
       "    <tr>\n",
       "      <th>0</th>\n",
       "      <td>cp_sa_le_amb</td>\n",
       "      <td>1</td>\n",
       "      <td>GFPMpt</td>\n",
       "      <td>a0</td>\n",
       "      <td>80</td>\n",
       "      <td>Demand</td>\n",
       "      <td>57.000000</td>\n",
       "      <td>8.618000e+03</td>\n",
       "      <td>-0.058824</td>\n",
       "      <td>-0.112439</td>\n",
       "      <td>1026.000000</td>\n",
       "      <td>0</td>\n",
       "      <td>2017</td>\n",
       "      <td>57.000000</td>\n",
       "      <td>6.463500e+03</td>\n",
       "      <td>1.077250e+04</td>\n",
       "    </tr>\n",
       "    <tr>\n",
       "      <th>1</th>\n",
       "      <td>cp_sa_le_amb</td>\n",
       "      <td>1</td>\n",
       "      <td>GFPMpt</td>\n",
       "      <td>a0</td>\n",
       "      <td>81</td>\n",
       "      <td>Demand</td>\n",
       "      <td>0.000000</td>\n",
       "      <td>1.000000e-10</td>\n",
       "      <td>0.000000</td>\n",
       "      <td>0.000000</td>\n",
       "      <td>0.000000</td>\n",
       "      <td>0</td>\n",
       "      <td>2017</td>\n",
       "      <td>0.000000</td>\n",
       "      <td>7.500000e-11</td>\n",
       "      <td>1.250000e-10</td>\n",
       "    </tr>\n",
       "    <tr>\n",
       "      <th>2</th>\n",
       "      <td>cp_sa_le_amb</td>\n",
       "      <td>1</td>\n",
       "      <td>GFPMpt</td>\n",
       "      <td>a0</td>\n",
       "      <td>82</td>\n",
       "      <td>Demand</td>\n",
       "      <td>99.000000</td>\n",
       "      <td>5.200000e+01</td>\n",
       "      <td>-0.058824</td>\n",
       "      <td>-32.365385</td>\n",
       "      <td>1782.000000</td>\n",
       "      <td>0</td>\n",
       "      <td>2017</td>\n",
       "      <td>98.999910</td>\n",
       "      <td>3.900000e+01</td>\n",
       "      <td>6.500000e+01</td>\n",
       "    </tr>\n",
       "    <tr>\n",
       "      <th>3</th>\n",
       "      <td>cp_sa_le_amb</td>\n",
       "      <td>1</td>\n",
       "      <td>GFPMpt</td>\n",
       "      <td>a0</td>\n",
       "      <td>83</td>\n",
       "      <td>Demand</td>\n",
       "      <td>325.506757</td>\n",
       "      <td>2.103012e+03</td>\n",
       "      <td>-0.410256</td>\n",
       "      <td>-0.377282</td>\n",
       "      <td>1118.932031</td>\n",
       "      <td>0</td>\n",
       "      <td>2017</td>\n",
       "      <td>325.503012</td>\n",
       "      <td>1.577250e+03</td>\n",
       "      <td>2.628750e+03</td>\n",
       "    </tr>\n",
       "    <tr>\n",
       "      <th>4</th>\n",
       "      <td>cp_sa_le_amb</td>\n",
       "      <td>1</td>\n",
       "      <td>GFPMpt</td>\n",
       "      <td>a0</td>\n",
       "      <td>84</td>\n",
       "      <td>Demand</td>\n",
       "      <td>639.858016</td>\n",
       "      <td>8.500035e+01</td>\n",
       "      <td>-0.755556</td>\n",
       "      <td>-9.963218</td>\n",
       "      <td>1486.733529</td>\n",
       "      <td>0</td>\n",
       "      <td>2017</td>\n",
       "      <td>639.856062</td>\n",
       "      <td>6.375000e+01</td>\n",
       "      <td>1.062500e+02</td>\n",
       "    </tr>\n",
       "  </tbody>\n",
       "</table>\n",
       "</div>"
      ],
      "text/plain": [
       "       Scenario  ID   Model RegionCode  CommodityCode  domain       price  \\\n",
       "0  cp_sa_le_amb   1  GFPMpt         a0             80  Demand   57.000000   \n",
       "1  cp_sa_le_amb   1  GFPMpt         a0             81  Demand    0.000000   \n",
       "2  cp_sa_le_amb   1  GFPMpt         a0             82  Demand   99.000000   \n",
       "3  cp_sa_le_amb   1  GFPMpt         a0             83  Demand  325.506757   \n",
       "4  cp_sa_le_amb   1  GFPMpt         a0             84  Demand  639.858016   \n",
       "\n",
       "       quantity  elasticity_price      slope    intercept  Period  year  \\\n",
       "0  8.618000e+03         -0.058824  -0.112439  1026.000000       0  2017   \n",
       "1  1.000000e-10          0.000000   0.000000     0.000000       0  2017   \n",
       "2  5.200000e+01         -0.058824 -32.365385  1782.000000       0  2017   \n",
       "3  2.103012e+03         -0.410256  -0.377282  1118.932031       0  2017   \n",
       "4  8.500035e+01         -0.755556  -9.963218  1486.733529       0  2017   \n",
       "\n",
       "   shadow_price   lower_bound   upper_bound  \n",
       "0     57.000000  6.463500e+03  1.077250e+04  \n",
       "1      0.000000  7.500000e-11  1.250000e-10  \n",
       "2     98.999910  3.900000e+01  6.500000e+01  \n",
       "3    325.503012  1.577250e+03  2.628750e+03  \n",
       "4    639.856062  6.375000e+01  1.062500e+02  "
      ]
     },
     "execution_count": 10,
     "metadata": {},
     "output_type": "execute_result"
    }
   ],
   "source": [
    "file_path = \"Input/julias_data.xlsx\"\n",
    "data = pd.read_excel(file_path)\n",
    "data.head()"
   ]
  },
  {
   "cell_type": "markdown",
   "metadata": {},
   "source": [
    "### Interactive scenario results (quantities)"
   ]
  },
  {
   "cell_type": "code",
   "execution_count": 18,
   "metadata": {},
   "outputs": [
    {
     "data": {
      "application/vnd.jupyter.widget-view+json": {
       "model_id": "c5f5b91f2ce34c6da15cb84de7e277c1",
       "version_major": 2,
       "version_minor": 0
      },
      "text/plain": [
       "interactive(children=(Dropdown(description='Select RegionCode:', options=('Alle', 'a0', 'a1', 'a2', 'a3', 'a4'…"
      ]
     },
     "metadata": {},
     "output_type": "display_data"
    },
    {
     "name": "stderr",
     "output_type": "stream",
     "text": [
      "C:\\Users\\tandetzki\\AppData\\Local\\Temp\\ipykernel_25268\\2574294438.py:47: FutureWarning: The default value of numeric_only in DataFrameGroupBy.sum is deprecated. In a future version, numeric_only will default to False. Either specify numeric_only or select only columns which should be valid for the function.\n",
      "  grouped_data = filtered_data.groupby(['Period', 'Scenario']).sum().reset_index()\n"
     ]
    },
    {
     "data": {
      "image/png": "[encoded data removed]",
      "text/plain": [
       "<Figure size 864x576 with 1 Axes>"
      ]
     },
     "metadata": {
      "needs_background": "light"
     },
     "output_type": "display_data"
    }
   ],
   "source": [
    "class PlotDropDown:\n",
    "    def __init__(self,data): \n",
    "        self.data =data\n",
    "        self.regioncode_dropdown = self.choose_dropdown(\"RegionCode\")\n",
    "        self.model_dropdown = self.choose_dropdown(\"Model\")\n",
    "        self.id_dropdown = self.choose_dropdown(\"ID\")\n",
    "        self.domain_dropdown = self.choose_dropdown(\"domain\")\n",
    "        self.commodity_code_dropdown = self.choose_dropdown(\"CommodityCode\")\n",
    "\n",
    "        self.interactive_plot_update = interactive(\n",
    "            self.update_plot_data,\n",
    "            region = self.regioncode_dropdown,\n",
    "            model = self.model_dropdown,\n",
    "            id = self.id_dropdown,\n",
    "            domain= self.domain_dropdown,\n",
    "            commodity = self.commodity_code_dropdown)\n",
    "        \n",
    "       \n",
    "        display(self.interactive_plot_update)\n",
    "\n",
    "\n",
    "    def choose_dropdown(self, column):\n",
    "        options = ['Alle'] + list(self.data[column].unique())\n",
    "        return widgets.Dropdown(\n",
    "            options=options,\n",
    "            value='Alle',\n",
    "            description=f'Select {column}:',\n",
    "            disabled=False\n",
    "        )\n",
    "\n",
    "    def update_plot_data(self, region, model, id, domain, commodity):\n",
    "        region_filter = [region] if region != 'Alle' else self.data['RegionCode'].unique()\n",
    "        model_filter = [model] if model != 'Alle' else self.data['Model'].unique()\n",
    "        id_filter = [id] if id != 'Alle' else self.data['ID'].unique()\n",
    "        domain_filter = [domain] if domain != 'Alle' else self.data['domain'].unique()\n",
    "        commodity_filter = [commodity] if commodity != 'Alle' else self.data['CommodityCode'].unique()\n",
    "\n",
    "\n",
    "        filtered_data = self.data[\n",
    "            (self.data['RegionCode'].isin(region_filter)) &\n",
    "            (self.data['Model'].isin(model_filter)) &\n",
    "            (self.data['ID'].isin(id_filter)) &\n",
    "            (self.data['domain'].isin(domain_filter)) &\n",
    "            (self.data['CommodityCode'].isin(commodity_filter))\n",
    "        ]\n",
    "    \n",
    "        grouped_data = filtered_data.groupby(['Period', 'Scenario']).sum().reset_index()\n",
    "\n",
    "        plt.figure(figsize=(12, 8))\n",
    "\n",
    "        for price_value in grouped_data['Scenario'].unique():\n",
    "            subset = grouped_data[grouped_data['Scenario'] == price_value]\n",
    "            plt.plot(subset['Period'], subset['quantity'], label=f'M: {price_value}')\n",
    "\n",
    "        plt.title(f'quantity for each Period - RegionCode: {region}, Model: {model}, ID: {id}, Domain: {domain}, CommodityCode: {commodity}')\n",
    "        plt.xlabel('period')\n",
    "        plt.ylabel('quantity')\n",
    "        plt.legend()\n",
    "        plt.grid(True)\n",
    "        plt.show()\n",
    "    \n",
    "\n",
    "plot_dropdown_instance = PlotDropDown(data)\n",
    "\n",
    "plot_dropdown_instance.update_plot_data(\n",
    "    region=plot_dropdown_instance.regioncode_dropdown.value,\n",
    "    model=plot_dropdown_instance.model_dropdown.value,\n",
    "    id=plot_dropdown_instance.id_dropdown.value,\n",
    "    domain=plot_dropdown_instance.domain_dropdown.value,\n",
    "    commodity=plot_dropdown_instance.commodity_code_dropdown.value)\n"
   ]
  },
  {
   "cell_type": "markdown",
   "metadata": {},
   "source": [
    "### Interactive scenario results (prices)"
   ]
  },
  {
   "cell_type": "code",
   "execution_count": 21,
   "metadata": {},
   "outputs": [
    {
     "data": {
      "application/vnd.jupyter.widget-view+json": {
       "model_id": "84b84f243778407da5fe52c043abec7e",
       "version_major": 2,
       "version_minor": 0
      },
      "text/plain": [
       "Dropdown(description='Select RegionCode:', options=('Alle', 'a0', 'a1', 'a2', 'a3', 'a4', 'a5', 'a6', 'a7', 'a…"
      ]
     },
     "metadata": {},
     "output_type": "display_data"
    },
    {
     "data": {
      "application/vnd.jupyter.widget-view+json": {
       "model_id": "4b9dc1b4a7284b839efca4ba65d9a05e",
       "version_major": 2,
       "version_minor": 0
      },
      "text/plain": [
       "Dropdown(description='Select Model:', options=('Alle', 'GFPMpt', 'GFPM'), value='Alle')"
      ]
     },
     "metadata": {},
     "output_type": "display_data"
    },
    {
     "data": {
      "application/vnd.jupyter.widget-view+json": {
       "model_id": "371f1882bca0410498a82f8fe220cc50",
       "version_major": 2,
       "version_minor": 0
      },
      "text/plain": [
       "Dropdown(description='Select ID:', options=('Alle', 1, 0, 2, 3, 4), value='Alle')"
      ]
     },
     "metadata": {},
     "output_type": "display_data"
    },
    {
     "data": {
      "application/vnd.jupyter.widget-view+json": {
       "model_id": "d460aa84d281489eb976854156001f30",
       "version_major": 2,
       "version_minor": 0
      },
      "text/plain": [
       "Dropdown(description='Select Domain:', options=('Alle', 'Demand', 'TransportationExport', 'TransportationImpor…"
      ]
     },
     "metadata": {},
     "output_type": "display_data"
    },
    {
     "data": {
      "application/vnd.jupyter.widget-view+json": {
       "model_id": "cacb211ca3b44089a6ed5b751906cdd2",
       "version_major": 2,
       "version_minor": 0
      },
      "text/plain": [
       "Dropdown(description='Select CommodityCode:', options=('Alle', 80, 81, 82, 83, 84, 85, 86, 87, 88, 89, 90, 91,…"
      ]
     },
     "metadata": {},
     "output_type": "display_data"
    },
    {
     "data": {
      "application/vnd.jupyter.widget-view+json": {
       "model_id": "b6c40af83fe1439ca63e4535fa9f940c",
       "version_major": 2,
       "version_minor": 0
      },
      "text/plain": [
       "HBox(children=(Output(), Output()))"
      ]
     },
     "metadata": {},
     "output_type": "display_data"
    }
   ],
   "source": [
    "#Dropdown\n",
    "region_dropdown = widgets.Dropdown(\n",
    "    options=['Alle'] + list(data['RegionCode'].unique()),\n",
    "    value='Alle',\n",
    "    description='Select RegionCode:',\n",
    "    disabled=False,\n",
    ")\n",
    "\n",
    "model_dropdown = widgets.Dropdown(\n",
    "    options=['Alle'] + list(data['Model'].unique()),\n",
    "    value='Alle',\n",
    "    description='Select Model:',\n",
    "    disabled=False,\n",
    ")\n",
    "\n",
    "id_dropdown = widgets.Dropdown(\n",
    "    options=['Alle'] + list(data['ID'].unique()),\n",
    "    value='Alle',\n",
    "    description='Select ID:',\n",
    "    disabled=False,\n",
    ")\n",
    "\n",
    "domain_dropdown = widgets.Dropdown(\n",
    "    options=['Alle'] + list(data['domain'].unique()),\n",
    "    value='Alle',\n",
    "    description='Select Domain:',\n",
    "    disabled=False,\n",
    ")\n",
    "\n",
    "commodity_code_dropdown = widgets.Dropdown(\n",
    "    options=['Alle'] + list(data['CommodityCode'].unique()),\n",
    "    value='Alle',\n",
    "    description='Select CommodityCode:',\n",
    "    disabled=False,\n",
    ")\n",
    "\n",
    "output_plot = widgets.Output()\n",
    "\n",
    "output_table = widgets.Output()\n",
    "\n",
    "def update_plot_data(region_code, model, id_value, domain, commodity_code):\n",
    "    region_code_filter = [region_code] if region_code != 'Alle' else data['RegionCode'].unique()\n",
    "    model_filter = [model] if model != 'Alle' else data['Model'].unique()\n",
    "    id_filter = [id_value] if id_value != 'Alle' else data['ID'].unique()\n",
    "    domain_filter = [domain] if domain != 'Alle' else data['domain'].unique()\n",
    "    commodity_code_filter = [commodity_code] if commodity_code != 'Alle' else data['CommodityCode'].unique()\n",
    "\n",
    "    filtered_data = data[\n",
    "        (data['RegionCode'].isin(region_code_filter)) &\n",
    "        (data['Model'].isin(model_filter)) &\n",
    "        (data['ID'].isin(id_filter)) &\n",
    "        (data['domain'].isin(domain_filter)) &\n",
    "        (data['CommodityCode'].isin(commodity_code_filter))\n",
    "    ]\n",
    "    \n",
    "    grouped_data = filtered_data.groupby(['Period', 'Scenario']).sum().reset_index()\n",
    "\n",
    "    with output_plot:\n",
    "        clear_output(wait=True)\n",
    "        plt.figure(figsize=(12, 8))\n",
    "        bar_width = 0.2\n",
    "        for i, scenario_value in enumerate(grouped_data['Scenario'].unique()):\n",
    "            subset = grouped_data[grouped_data['Scenario'] == scenario_value]\n",
    "            x_positions = subset['Period'] + i * bar_width\n",
    "            plt.bar(x_positions, subset['price'], width=bar_width, label=f'Scenario {scenario_value}')\n",
    "\n",
    "        plt.title(f'Price for each scenario grouped by Period - RegionCode: {region_code}, Model: {model}, ID: {id_value}, Domain: {domain}, CommodityCode: {commodity_code}')\n",
    "        plt.xlabel('Period')\n",
    "        plt.ylabel('Price')\n",
    "        plt.legend()\n",
    "        plt.grid(True)\n",
    "        plt.show()\n",
    "\n",
    "#show Table of selected drop down  \n",
    "    with output_table:\n",
    "        clear_output(wait=True)\n",
    "        display_table = filtered_data[['Period', 'RegionCode', 'Model', 'ID', 'domain', 'CommodityCode', 'Scenario', 'quantity', 'price']] \n",
    "        display(display_table)\n",
    "\n",
    "interactive_plot_update = widgets.interactive(\n",
    "    update_plot_data,\n",
    "    region_code=region_dropdown,\n",
    "    model=model_dropdown,\n",
    "    id_value=id_dropdown,\n",
    "    domain=domain_dropdown,\n",
    "    commodity_code=commodity_code_dropdown\n",
    ")\n",
    "\n",
    "def update_outputs(*args):\n",
    "    update_plot_data(region_dropdown.value, model_dropdown.value, id_dropdown.value, domain_dropdown.value, commodity_code_dropdown.value)\n",
    "\n",
    "region_dropdown.observe(update_outputs, 'value')\n",
    "model_dropdown.observe(update_outputs, 'value')\n",
    "id_dropdown.observe(update_outputs, 'value')\n",
    "domain_dropdown.observe(update_outputs, 'value')\n",
    "commodity_code_dropdown.observe(update_outputs, 'value')\n",
    "\n",
    "display(region_dropdown, model_dropdown, id_dropdown, domain_dropdown, commodity_code_dropdown)\n",
    "#display(interactive_plot_update)\n",
    "display(widgets.HBox([output_plot, output_table]))\n"
   ]
  }
 ],
 "metadata": {
  "kernelspec": {
   "display_name": "Python 3",
   "language": "python",
   "name": "python3"
  },
  "language_info": {
   "codemirror_mode": {
    "name": "ipython",
    "version": 3
   },
   "file_extension": ".py",
   "mimetype": "text/x-python",
   "name": "python",
   "nbconvert_exporter": "python",
   "pygments_lexer": "ipython3",
   "version": "3.9.7"
  }
 },
 "nbformat": 4,
 "nbformat_minor": 2
}
