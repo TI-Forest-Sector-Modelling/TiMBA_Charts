{
 "cells": [
  {
   "cell_type": "markdown",
   "metadata": {},
   "source": [
    "**Figures and Tables for GFPMpt validation**\n",
    " - In this Jupyter script, there are figures and tables that represent the analysis of results of GFPMpt at both aggregated and detailed levels for countries and products. The evaluation also includes forest data, manufacturing data, world market prices, and carbon prices."
   ]
  },
  {
   "cell_type": "code",
   "execution_count": 3,
   "metadata": {},
   "outputs": [],
   "source": [
    "import pandas as pd \n",
    "import numpy as np\n",
    "import matplotlib.pyplot as plt\n"
   ]
  },
  {
   "cell_type": "markdown",
   "metadata": {},
   "source": [
    "**Load all data**"
   ]
  },
  {
   "cell_type": "code",
   "execution_count": 1,
   "metadata": {},
   "outputs": [],
   "source": [
    "#Data of all domains\n",
    "#for every period"
   ]
  },
  {
   "cell_type": "markdown",
   "metadata": {},
   "source": [
    "**Figure 1:**\n",
    "- tile representation of all aggregated data\n",
    "- Choose between Szenario, Produkt and Supply, Demand, Manufacture, Import, Export \n",
    "- Choose if you wanna see bounds"
   ]
  },
  {
   "cell_type": "code",
   "execution_count": 6,
   "metadata": {},
   "outputs": [
    {
     "data": {
      "image/png": "[encoded data removed]",
      "text/plain": [
       "<Figure size 432x288 with 1 Axes>"
      ]
     },
     "metadata": {
      "needs_background": "light"
     },
     "output_type": "display_data"
    }
   ],
   "source": [
    "### Insert the code for the tile representation of various products for supply, demand, export, import, manufacture for FAO data, and different scenarios of GFPMpt\n",
    "\n",
    "categories = ['categ 1', 'categ  2', 'categ  3', 'categ  4']\n",
    "values = [3, 7, 2, 5]\n",
    "\n",
    "plt.bar(categories, values, color='blue')\n",
    "\n",
    "plt.xlabel('categ ')\n",
    "plt.ylabel('values')\n",
    "plt.title('Test Figure')\n",
    "\n",
    "plt.show()\n",
    "\n"
   ]
  },
  {
   "cell_type": "markdown",
   "metadata": {},
   "source": [
    "**Figure 2:**\n",
    "- headmap comparison of deviations between GFPM and various scenarios of GFPMpt\n",
    "- User input selection for scenario in GFPMpt"
   ]
  },
  {
   "cell_type": "code",
   "execution_count": 8,
   "metadata": {},
   "outputs": [
    {
     "data": {
      "image/png": "[encoded data removed]",
      "text/plain": [
       "<Figure size 432x288 with 2 Axes>"
      ]
     },
     "metadata": {
      "needs_background": "light"
     },
     "output_type": "display_data"
    }
   ],
   "source": [
    "data = np.random.rand(10, 10)\n",
    "\n",
    "plt.imshow(data, cmap='viridis', interpolation='nearest')\n",
    "plt.colorbar()\n",
    "\n",
    "plt.show()"
   ]
  },
  {
   "cell_type": "markdown",
   "metadata": {},
   "source": [
    "**Table 1:**\n",
    "- Results table with a simple drop-down for selecting the country, period, scenario, model, domain, etc. (Data basis for Figure 3)"
   ]
  },
  {
   "cell_type": "code",
   "execution_count": 11,
   "metadata": {},
   "outputs": [
    {
     "name": "stdout",
     "output_type": "stream",
     "text": [
      "test1\n"
     ]
    }
   ],
   "source": [
    "print(\"test1\")\n"
   ]
  },
  {
   "cell_type": "markdown",
   "metadata": {},
   "source": [
    "**Figure 3:**\n",
    "- Pivot Chart with line chart\n",
    "- User input for country, commodity, domain\n",
    "- quantity and supply\n",
    "- comparison between GFPM and various scenarios of GFPMpt"
   ]
  },
  {
   "cell_type": "code",
   "execution_count": null,
   "metadata": {},
   "outputs": [],
   "source": []
  },
  {
   "cell_type": "markdown",
   "metadata": {},
   "source": [
    "**Table 2:**\n",
    "- Displaying world market prices\n",
    "- analyzing deviations between GFPM and GFPMpt or different GFPMpt scenarios in terms of relative frequency"
   ]
  },
  {
   "cell_type": "code",
   "execution_count": null,
   "metadata": {},
   "outputs": [],
   "source": []
  },
  {
   "cell_type": "markdown",
   "metadata": {},
   "source": [
    "**Figure 4:**\n",
    "- visualization of forest area and forest stock as line bar\n",
    "- comparision between GFPM and GFPMpt, or different scenarios of GFPMpt\n"
   ]
  },
  {
   "cell_type": "code",
   "execution_count": null,
   "metadata": {},
   "outputs": [],
   "source": [
    "#forest area and stock over years in a line bar or bar chart"
   ]
  }
 ],
 "metadata": {
  "kernelspec": {
   "display_name": "Python 3",
   "language": "python",
   "name": "python3"
  },
  "language_info": {
   "codemirror_mode": {
    "name": "ipython",
    "version": 3
   },
   "file_extension": ".py",
   "mimetype": "text/x-python",
   "name": "python",
   "nbconvert_exporter": "python",
   "pygments_lexer": "ipython3",
   "version": "3.9.7"
  }
 },
 "nbformat": 4,
 "nbformat_minor": 2
}
